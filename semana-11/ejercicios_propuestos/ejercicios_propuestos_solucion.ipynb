{
 "cells": [
  {
   "cell_type": "markdown",
   "metadata": {},
   "source": [
    "# Ejercicios propuestos: *Input*/*Output* + Serialización + RegEx"
   ]
  },
  {
   "cell_type": "markdown",
   "metadata": {},
   "source": [
    "Los siguientes problemas se dejan como opción para ejercitar los conceptos revisados en la segunda parte sobre I/O (semana 11). Si tienes dudas sobre algún problema o alguna solución, no dudes en dejar una issue en el foro del curso."
   ]
  },
  {
   "cell_type": "markdown",
   "metadata": {},
   "source": [
    "## Ejercicio 1"
   ]
  },
  {
   "cell_type": "markdown",
   "metadata": {},
   "source": [
    "El archivo **simpatico.bmp** ha sido corrompido con bytes no correspondientes. Para limpiarlo, deberá realizar el siguiente algoritmo:\n",
    "\n",
    "- Abra el archivo **malvado.mal** en modo lectura de bytes.\n",
    "- Obtenga chunks de 8 bytes.\n",
    "- Encuentre el máximo de esos 8 bytes.\n",
    "- Elimine todos los bytes con ese valor.\n",
    "- Repita el proceso con el resto de los bytes.\n",
    "- Escriba el archivo **simpatico.bmp** con los bytes obtenidos.\n",
    "\n",
    "Es decir,\n",
    "\n",
    "Si tengo 8 bytes con los siguientes valores:\n",
    "\n",
    "4 8 255 15 16 23 255 42\n",
    "\n",
    "Obtenemos el máximo de ese chunk de bytes: 255\n",
    "\n",
    "Elimino todos los bytes con ese valor, por lo que los que se han de escribir serán:\n",
    "\n",
    "4 8 15 16 23 42"
   ]
  },
  {
   "cell_type": "code",
   "execution_count": 8,
   "metadata": {},
   "outputs": [],
   "source": [
    "#Abro el archivo\n",
    "with open('malvado.mal', 'rb') as bytefile:\n",
    "    byte_read = bytefile.read()\n",
    "    byte_out = bytearray()\n",
    "    for i in range(0, len(byte_read), 8):\n",
    "        #obtengo chunks de 8 bytes\n",
    "        chunk = bytearray(byte_read[i:i+8])\n",
    "        #obtengo el maximo\n",
    "        maximum = max(chunk)\n",
    "        #elimino todos los bytes de ese valor\n",
    "        while maximum in chunk:\n",
    "            chunk.remove(maximum)\n",
    "        byte_out += chunk\n",
    "#escribo el archivo\n",
    "with open('simpatico.bmp', 'wb') as file_out:\n",
    "    file_out.write(byte_out)"
   ]
  },
  {
   "cell_type": "markdown",
   "metadata": {},
   "source": [
    "## Ejercicio 2"
   ]
  },
  {
   "cell_type": "markdown",
   "metadata": {},
   "source": [
    "Han contaminado el recetario de las pizzas del Tini Tamburini, por lo cual ha venido a conseguir ayuda mediante este ejercicio propuesto.\n",
    "\n",
    "Deberá deserializar el archivo **pizzeria.json** que contiene una lista de objetos de clase Pizza.\n",
    "\n",
    "Estos objetos tienen el atributo **ingredientes** el cual ha sido contaminado con elementos que no son comestibles, para identificarlos, el Tini le entrega un archivo llamado **comestibles.json**, el cual le ayudará a filtrar los ingredientes mediante un **object_hook**.\n",
    "\n",
    "Finalmente, imprima todas las pizzas mediante un **format string**."
   ]
  },
  {
   "cell_type": "code",
   "execution_count": 11,
   "metadata": {},
   "outputs": [
    {
     "name": "stdout",
     "output_type": "stream",
     "text": [
      "Pizza: hawaiana \n",
      "Ingredientes:['pinia', 'queso', 'jamon']\n",
      "Pizza: vegetariana \n",
      "Ingredientes:['queso', 'aceitunas', 'champiniones']\n",
      "Pizza: machas a la parmesana \n",
      "Ingredientes:['machas', 'queso']\n",
      "Pizza: pepperoni \n",
      "Ingredientes:['pepperoni', 'queso']\n",
      "Pizza: pollo bbq \n",
      "Ingredientes:['cebolla', 'queso', 'pollo bbq']\n",
      "Pizza: jamon palmito \n",
      "Ingredientes:['jamon', 'palmitos', 'queso']\n",
      "Pizza: white \n",
      "Ingredientes:['aceitunas', 'tomate']\n",
      "Pizza: napolitana \n",
      "Ingredientes:['queso', 'albahaca', 'tomate']\n",
      "Pizza: queso \n",
      "Ingredientes:['queso', 'queso']\n"
     ]
    }
   ],
   "source": [
    "import json\n",
    "\n",
    "\n",
    "class Pizza:\n",
    "    def __init__(self, nombre, ingredientes, *args, **kwargs):\n",
    "        self.nombre = nombre\n",
    "        self.ingredientes = ingredientes\n",
    "    def __repr__(self):\n",
    "        return self.nombre\n",
    "    def __str__(self):\n",
    "        return 'Pizza: {} \\nIngredientes:{}'.format(self.nombre, self.ingredientes)\n",
    "\n",
    "def filtrar_comestibles(diccionario):\n",
    "    with open('comestibles.json') as comestibles_file:\n",
    "        comestible = json.load(comestibles_file)\n",
    "    diccionario['ingredientes'] = list(filter(lambda x: x in comestible, \n",
    "                                              diccionario['ingredientes']))\n",
    "    return Pizza(**diccionario)\n",
    "\n",
    "with open('pizzeria.json') as json_file:\n",
    "    pizzas = json.load(json_file, object_hook=filtrar_comestibles)\n",
    "    \n",
    "    \n",
    "for p in pizzas:\n",
    "    print(p)"
   ]
  },
  {
   "cell_type": "markdown",
   "metadata": {},
   "source": [
    "## Ejercicio 3"
   ]
  },
  {
   "cell_type": "markdown",
   "metadata": {},
   "source": [
    "El profesor Vicente es un muy buen baterista, y un día le llego una canción de un alumno escrita de una manera muy peculiar:\n",
    "\n",
    "BUMpatapatapatatss;-;BUMBUMpatatsspatatss;-;BUMpataBUMpataBUM;-;BUMtsstssBUMpata...\n",
    "\n",
    "El ingeniosamente, descubrió que significa cada elemento:\n",
    "\n",
    "- BUM: Bombo -> O\n",
    "- pata: Caja -> ././\n",
    "- tss: Platillo  -> x/\n",
    "\n",
    "Mientras que los ';-;' sería una barra de compás \" | \"\n",
    "\n",
    "Como favor, te pide que crees una función **traducir_pata(cancion)** que use Regex para reemplazar los elementos de la canción por la nomenclatura que te presenta.\n",
    "\n",
    "Ejemplo\n",
    "\n",
    "BUMpatapatapatatss;-;BUMBUMpatatsspatatss;-;BUMpataBUMpataBUM;-;BUMtsstssBUMpata\n",
    "\n",
    "retornaría\n",
    "\n",
    "O ././ ././ ././ x/ | O O ././ x/ ././ x/ | O ././ O ././ O | O x/ x/ O ././ "
   ]
  },
  {
   "cell_type": "code",
   "execution_count": 19,
   "metadata": {},
   "outputs": [
    {
     "name": "stdout",
     "output_type": "stream",
     "text": [
      "O ././ ././ ././ x/ | O O ././ x/ ././ x/ | O ././ O ././ O | O x/ x/ O ././ \n"
     ]
    }
   ],
   "source": [
    "import re\n",
    "\n",
    "def traducir_pata(cancion):\n",
    "    cancion = re.sub(\"BUM\", \"O \", cancion)\n",
    "    cancion = re.sub(\"pata\", \"././ \", cancion)\n",
    "    cancion = re.sub(\"tss\", \"x/ \", cancion)\n",
    "    cancion = re.sub(\";-;\", '| ', cancion)\n",
    "    return cancion\n",
    "\n",
    "print(traducir_pata(\"BUMpatapatapatatss;-;BUMBUMpatatsspatatss;-;BUMpataBUMpataBUM;-;BUMtsstssBUMpata\"))"
   ]
  },
  {
   "cell_type": "code",
   "execution_count": null,
   "metadata": {},
   "outputs": [],
   "source": []
  },
  {
   "cell_type": "markdown",
   "metadata": {},
   "source": [
    "## Ejercicio 4"
   ]
  },
  {
   "cell_type": "markdown",
   "metadata": {},
   "source": [
    "En las descripciones de un conjunto de obras de arte se encuentra un mensaje oculto, por lo que deberás desifrar este mensaje a través de Serializacion Pickle."
   ]
  },
  {
   "cell_type": "markdown",
   "metadata": {},
   "source": [
    "Para lograr esto, deberás implementar las siguientes funciones:"
   ]
  },
  {
   "cell_type": "markdown",
   "metadata": {},
   "source": [
    "cargar obras(ruta_obras): El archivo operas.json contiene toda la información de las obras.\n",
    "Las obras contienen algunos datos que no son relevantes para la solución de este misterio. Por esto,\n",
    "se te entrega el archivo caratteristicas.json 5 con las caracterı́sticas que sı́ deberás obtener de\n",
    "las obras, mediante la función obras hook. Esta función deberá retornar una lista de objetos de la\n",
    "clase Obra"
   ]
  },
  {
   "cell_type": "markdown",
   "metadata": {},
   "source": [
    "generar mensaje(lista_obras): Tu función debe serializar cada una de las obras utilizando pickle. Durante este proceso deberás agregar, a cada obra, el atributo messaggio con un mensaje generado por 3 palabras al azar del atributo descrizione. Los archivos generados deben ser guardados con el formato de nombre < nome >-< autore >.opera, donde nome y autore son el nombre de la\n",
    "obra y el nombre de su respectivo autor, en la carpeta Obras."
   ]
  },
  {
   "cell_type": "code",
   "execution_count": null,
   "metadata": {},
   "outputs": [],
   "source": [
    "import json\n",
    "import os\n",
    "import pickle\n",
    "import random\n",
    "\n",
    "CARATTERISTICAS_CAMMINO = 'caratteristicas.json'\n",
    "OPERAS_CAMMINO = 'operas.json'\n",
    "\n",
    "class Obra:\n",
    "    \"\"\"\n",
    "    Clase para las Obras de Antonini Da Ossa\n",
    "    \"\"\"\n",
    "\n",
    "    def __init__(self, nome=None, autore=None, anno=None, posto=None,\n",
    "                 stile=None, descrizione=None):\n",
    "\n",
    "        self.nome = nome\n",
    "        self.autore = autore\n",
    "        self.anno = anno\n",
    "        self.posto = posto\n",
    "        self.stile = stile\n",
    "        self.descrizione = descrizione\n",
    "\n",
    "    def __getstate__(self):\n",
    "        \"\"\"\n",
    "        Serializa las obras, agregando el atributo 'messaggio' al diccionario.\n",
    "        \"\"\"\n",
    "\n",
    "        pass\n",
    "\n",
    "\n",
    "def cargar_obras(ruta_obras):\n",
    "    \"\"\"\n",
    "\n",
    "    Funcion que carga las obras con las características pedidas,\n",
    "    y luego entrega la lista de Obras.\n",
    "    :param ruta_obras: Path de archivo de obras a cargar\n",
    "\n",
    "    NOTA: DEBE USARSE la funcion obras_hook() como\n",
    "     object hook para hacer el filtrado\n",
    "\n",
    "    \"\"\"\n",
    "    pass\n",
    "\n",
    "\n",
    "def obras_hook(dict_obras):\n",
    "    \"\"\"\n",
    "    Object hook que hace los objetos de la clase Obra y los añade a una lista.\n",
    "    HINT: Utilizar aquí el archivo caratteristicas ;)\n",
    "    \"\"\"\n",
    "\n",
    "    pass\n",
    "\n",
    "\n",
    "def generar_mensaje(lista_obras):\n",
    "    \"\"\"\n",
    "    Serializa las obras y las guarda en archivos\n",
    "    :param lista_obras: Lista de objetos de tipo obra cargados.\n",
    "    \"\"\"\n",
    "\n",
    "    pass\n"
   ]
  }
 ],
 "metadata": {
  "kernelspec": {
   "display_name": "Python 3",
   "language": "python",
   "name": "python3"
  },
  "language_info": {
   "codemirror_mode": {
    "name": "ipython",
    "version": 3
   },
   "file_extension": ".py",
   "mimetype": "text/x-python",
   "name": "python",
   "nbconvert_exporter": "python",
   "pygments_lexer": "ipython3",
   "version": "3.7.4"
  },
  "varInspector": {
   "cols": {
    "lenName": 16,
    "lenType": 16,
    "lenVar": 40
   },
   "kernels_config": {
    "python": {
     "delete_cmd_postfix": "",
     "delete_cmd_prefix": "del ",
     "library": "var_list.py",
     "varRefreshCmd": "print(var_dic_list())"
    },
    "r": {
     "delete_cmd_postfix": ") ",
     "delete_cmd_prefix": "rm(",
     "library": "var_list.r",
     "varRefreshCmd": "cat(var_dic_list()) "
    }
   },
   "types_to_exclude": [
    "module",
    "function",
    "builtin_function_or_method",
    "instance",
    "_Feature"
   ],
   "window_display": false
  }
 },
 "nbformat": 4,
 "nbformat_minor": 2
}
